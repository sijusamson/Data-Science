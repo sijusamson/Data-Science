{
 "cells": [
  {
   "cell_type": "markdown",
   "metadata": {},
   "source": [
    "# App profiles for Google Play and App Store\n",
    "Our aim in this project is to find mobile apps that are profitable to App Store and Google Play. We build apps that are free to download and install, and our main source of revenue consists of in-app ads. This means our revenue for any given app is mostly influenced by the number of users who use our app."
   ]
  },
  {
   "cell_type": "markdown",
   "metadata": {},
   "source": [
    "## Opening and exploring the Data\n",
    "\n",
    "[A data set](https://www.kaggle.com/lava18/google-play-store-apps/home) Containing data about approximately Android Apps from Google Play\n",
    "\n",
    "[A data set](https://www.kaggle.com/ramamet4/app-store-apple-data-set-10k-apps/home) Containing data about ios Apps from App Store.\n",
    "\n",
    "Lets Start by opening two data sets and then continue with exploring the data"
   ]
  },
  {
   "cell_type": "code",
   "execution_count": 11,
   "metadata": {},
   "outputs": [],
   "source": [
    "##App Store\n",
    "openAppleStore = open(\"Downloads/app-store-apple-data-set-10k-apps/AppleStore.csv\", encoding=\"utf8\")\n",
    "from csv import reader\n",
    "readAppStore = reader(openAppleStore)\n",
    "appleDataSet = list(readAppStore)\n",
    "iosHeader = appleDataSet[0]\n",
    "ios = appleDataSet[1:]\n",
    "\n",
    "\n",
    "## Google Play Store\n",
    "openGooglePlay = open(\"Downloads/google-play-store-apps/googleplaystore.csv\", encoding=\"utf8\")\n",
    "from csv import reader\n",
    "readGooglePlay = reader(openGooglePlay)\n",
    "googleDataSet = list(readGooglePlay)\n",
    "androidHeader = googleDataSet[0]\n",
    "android = googleDataSet[1:]"
   ]
  },
  {
   "cell_type": "markdown",
   "metadata": {},
   "source": [
    "To make it easier to explore the two data sets, we will first write a function named explore_Data() that we can use repeatedly to explore rows in a more readable way, we will also introduce a parameter rows_and_columns, which can be used to show the number of rows and columns "
   ]
  },
  {
   "cell_type": "code",
   "execution_count": 12,
   "metadata": {},
   "outputs": [],
   "source": [
    "def explore_Data(data_set, start, end, rows_and_columns= False):\n",
    "    dataSet = data_set[start:end]\n",
    "    for row in dataSet:\n",
    "        print(row)\n",
    "        print(\"\\n\")\n",
    "    if rows_and_columns:\n",
    "        print(\"Number of rows \",len(data_set))  \n",
    "        print(\"Number of columns \", len(data_set[0]))  "
   ]
  },
  {
   "cell_type": "code",
   "execution_count": 13,
   "metadata": {},
   "outputs": [
    {
     "name": "stdout",
     "output_type": "stream",
     "text": [
      "['App', 'Category', 'Rating', 'Reviews', 'Size', 'Installs', 'Type', 'Price', 'Content Rating', 'Genres', 'Last Updated', 'Current Ver', 'Android Ver']\n",
      "\n",
      "\n",
      "['Photo Editor & Candy Camera & Grid & ScrapBook', 'ART_AND_DESIGN', '4.1', '159', '19M', '10,000+', 'Free', '0', 'Everyone', 'Art & Design', 'January 7, 2018', '1.0.0', '4.0.3 and up']\n",
      "\n",
      "\n",
      "['Coloring book moana', 'ART_AND_DESIGN', '3.9', '967', '14M', '500,000+', 'Free', '0', 'Everyone', 'Art & Design;Pretend Play', 'January 15, 2018', '2.0.0', '4.0.3 and up']\n",
      "\n",
      "\n",
      "['U Launcher Lite – FREE Live Cool Themes, Hide Apps', 'ART_AND_DESIGN', '4.7', '87510', '8.7M', '5,000,000+', 'Free', '0', 'Everyone', 'Art & Design', 'August 1, 2018', '1.2.4', '4.0.3 and up']\n",
      "\n",
      "\n",
      "Number of rows  10841\n",
      "Number of columns  13\n"
     ]
    }
   ],
   "source": [
    "print(androidHeader)\n",
    "print(\"\\n\")\n",
    "explore_Data(android, 0, 3, True)"
   ]
  },
  {
   "cell_type": "markdown",
   "metadata": {},
   "source": [
    "Now, we can see that we Play store has 10841 apps, and 13 Columns."
   ]
  },
  {
   "cell_type": "code",
   "execution_count": 14,
   "metadata": {},
   "outputs": [
    {
     "name": "stdout",
     "output_type": "stream",
     "text": [
      "['', 'id', 'track_name', 'size_bytes', 'currency', 'price', 'rating_count_tot', 'rating_count_ver', 'user_rating', 'user_rating_ver', 'ver', 'cont_rating', 'prime_genre', 'sup_devices.num', 'ipadSc_urls.num', 'lang.num', 'vpp_lic']\n",
      "\n",
      "\n",
      "['1', '281656475', 'PAC-MAN Premium', '100788224', 'USD', '3.99', '21292', '26', '4', '4.5', '6.3.5', '4+', 'Games', '38', '5', '10', '1']\n",
      "\n",
      "\n",
      "['2', '281796108', 'Evernote - stay organized', '158578688', 'USD', '0', '161065', '26', '4', '3.5', '8.2.2', '4+', 'Productivity', '37', '5', '23', '1']\n",
      "\n",
      "\n",
      "['3', '281940292', 'WeatherBug - Local Weather, Radar, Maps, Alerts', '100524032', 'USD', '0', '188583', '2822', '3.5', '4.5', '5.0.0', '4+', 'Weather', '37', '5', '3', '1']\n",
      "\n",
      "\n",
      "Number of rows  7197\n",
      "Number of columns  17\n"
     ]
    }
   ],
   "source": [
    "print(iosHeader)\n",
    "print(\"\\n\")\n",
    "explore_Data(ios, 0, 3, True)"
   ]
  },
  {
   "cell_type": "markdown",
   "metadata": {},
   "source": [
    "Now, we can see we have 7197 rows, and 17 columns."
   ]
  },
  {
   "cell_type": "markdown",
   "metadata": {},
   "source": [
    "# Deleting wrong Data"
   ]
  },
  {
   "cell_type": "markdown",
   "metadata": {},
   "source": [
    "The Google Play Dataset has a [discussion section](https://www.kaggle.com/lava18/google-play-store-apps/discussion), and we can see in one of the [discussion](https://www.kaggle.com/lava18/google-play-store-apps/discussion/66015), they outline a error for row 10472, let's just print that row and compare to other row."
   ]
  },
  {
   "cell_type": "code",
   "execution_count": 16,
   "metadata": {},
   "outputs": [
    {
     "name": "stdout",
     "output_type": "stream",
     "text": [
      "['Life Made WI-Fi Touchscreen Photo Frame', '1.9', '19', '3.0M', '1,000+', 'Free', '0', 'Everyone', '', 'February 11, 2018', '1.0.19', '4.0 and up']\n",
      "['App', 'Category', 'Rating', 'Reviews', 'Size', 'Installs', 'Type', 'Price', 'Content Rating', 'Genres', 'Last Updated', 'Current Ver', 'Android Ver']\n",
      "['Coloring book moana', 'ART_AND_DESIGN', '3.9', '967', '14M', '500,000+', 'Free', '0', 'Everyone', 'Art & Design;Pretend Play', 'January 15, 2018', '2.0.0', '4.0.3 and up']\n"
     ]
    }
   ],
   "source": [
    "print(android[10472]) # printing 10472 row\n",
    "print(androidHeader)  # printing Android Header\n",
    "print(android[1])  # printing 1st row for comparison"
   ]
  },
  {
   "cell_type": "markdown",
   "metadata": {},
   "source": [
    "The row 10472 corresponds to 'Life Made WI-Fi Touchscreen Photo Frame', and we can clearly see that rating is '19', which is clearly wrong, as maximum rating for Google PlayStore is 5, So we need to delete this row. "
   ]
  },
  {
   "cell_type": "code",
   "execution_count": 18,
   "metadata": {},
   "outputs": [
    {
     "name": "stdout",
     "output_type": "stream",
     "text": [
      "10841\n",
      "10840\n"
     ]
    }
   ],
   "source": [
    "print(len(android)) \n",
    "del android[10472]  #deleting the wrong row\n",
    "print(len(android))"
   ]
  },
  {
   "cell_type": "markdown",
   "metadata": {},
   "source": [
    "If we go through Google Play data, we can see some apps are being repeated, For example Instagram has four entries."
   ]
  },
  {
   "cell_type": "code",
   "execution_count": 20,
   "metadata": {},
   "outputs": [
    {
     "name": "stdout",
     "output_type": "stream",
     "text": [
      "['Instagram', 'SOCIAL', '4.5', '66577313', 'Varies with device', '1,000,000,000+', 'Free', '0', 'Teen', 'Social', 'July 31, 2018', 'Varies with device', 'Varies with device']\n",
      "['Instagram', 'SOCIAL', '4.5', '66577446', 'Varies with device', '1,000,000,000+', 'Free', '0', 'Teen', 'Social', 'July 31, 2018', 'Varies with device', 'Varies with device']\n",
      "['Instagram', 'SOCIAL', '4.5', '66577313', 'Varies with device', '1,000,000,000+', 'Free', '0', 'Teen', 'Social', 'July 31, 2018', 'Varies with device', 'Varies with device']\n",
      "['Instagram', 'SOCIAL', '4.5', '66509917', 'Varies with device', '1,000,000,000+', 'Free', '0', 'Teen', 'Social', 'July 31, 2018', 'Varies with device', 'Varies with device']\n"
     ]
    }
   ],
   "source": [
    "for app in android:\n",
    "    if \"Instagram\"== app[0]:\n",
    "        print(app)"
   ]
  },
  {
   "cell_type": "code",
   "execution_count": 22,
   "metadata": {},
   "outputs": [
    {
     "name": "stdout",
     "output_type": "stream",
     "text": [
      "unique_apps 9659\n",
      "/n\n",
      "duplicate_apps 1181\n",
      "['Quick PDF Scanner + OCR FREE', 'Box', 'Google My Business', 'ZOOM Cloud Meetings', 'join.me - Simple Meetings', 'Box', 'Zenefits', 'Google Ads', 'Google My Business', 'Slack', 'FreshBooks Classic', 'Insightly CRM', 'QuickBooks Accounting: Invoicing & Expenses', 'HipChat - Chat Built for Teams', 'Xero Accounting Software']\n"
     ]
    }
   ],
   "source": [
    "unique_apps = []\n",
    "duplicate_apps = []\n",
    "for app in android:\n",
    "    name = app[0]\n",
    "    if name in unique_apps:\n",
    "        duplicate_apps.append(name);\n",
    "    else:\n",
    "        unique_apps.append(name)\n",
    "print(\"unique_apps\", len(unique_apps));\n",
    "print(\"/n\");\n",
    "print(\"duplicate_apps\", len(duplicate_apps));\n",
    "print(duplicate_apps[:15])"
   ]
  },
  {
   "cell_type": "markdown",
   "metadata": {},
   "source": [
    "As, we can see there are 1181 cases where apps are being repeated.\n",
    "We dont't want to count apps more than once, when we analyze data. So, we need to remove duplicate entries and keep only one entry per app. One way which we could do is deleting randomly, but we can find a better way."
   ]
  },
  {
   "cell_type": "markdown",
   "metadata": {},
   "source": [
    "If, we can examine the data which we have printed for Instagram, we can see rows are pretty much same, but the main difference happens in 4th column, i.e Reviews. The different number shows these data where collected at different times. We can use this to build a criterion for keeping rows. We won't remove rows randomly, but rather we'll keep the rows that have the highest number of reviews because the higher the number of reviews, the more reliable the ratings. "
   ]
  },
  {
   "cell_type": "markdown",
   "metadata": {},
   "source": [
    "To do that, we will :\n"
   ]
  },
  {
   "cell_type": "markdown",
   "metadata": {},
   "source": [
    "1) Create a dictionary, where each key is a unique app name, and value is the highest number of reviews of that app.\n"
   ]
  },
  {
   "cell_type": "markdown",
   "metadata": {},
   "source": [
    "2) Use the dictionary to create a new data set, which will have only one entry per app (and we only select the apps with the highest number of reviews)"
   ]
  },
  {
   "cell_type": "code",
   "execution_count": 25,
   "metadata": {},
   "outputs": [
    {
     "name": "stdout",
     "output_type": "stream",
     "text": [
      "9659\n"
     ]
    }
   ],
   "source": [
    "review_max = {}\n",
    "for row in android:\n",
    "    name  = row[0]\n",
    "    n_reviews = float(row[3])\n",
    "    if name in review_max and n_reviews> review_max[name]:\n",
    "        review_max[name] = n_reviews\n",
    "    elif name not in review_max:\n",
    "            review_max[name] =  n_reviews\n",
    "print(len(review_max))            "
   ]
  },
  {
   "cell_type": "code",
   "execution_count": null,
   "metadata": {},
   "outputs": [],
   "source": []
  }
 ],
 "metadata": {
  "kernelspec": {
   "display_name": "Python 3",
   "language": "python",
   "name": "python3"
  },
  "language_info": {
   "codemirror_mode": {
    "name": "ipython",
    "version": 3
   },
   "file_extension": ".py",
   "mimetype": "text/x-python",
   "name": "python",
   "nbconvert_exporter": "python",
   "pygments_lexer": "ipython3",
   "version": "3.6.5"
  }
 },
 "nbformat": 4,
 "nbformat_minor": 2
}
