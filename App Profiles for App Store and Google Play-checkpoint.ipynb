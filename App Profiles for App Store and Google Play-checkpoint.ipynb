{
 "cells": [
  {
   "cell_type": "markdown",
   "metadata": {},
   "source": [
    "# App profiles for Google Play and App Store\n",
    "Our aim in this project is to find mobile apps that are profitable to App Store and Google Play. We build apps that are free to download and install, and our main source of revenue consists of in-app ads. This means our revenue for any given app is mostly influenced by the number of users who use our app."
   ]
  },
  {
   "cell_type": "markdown",
   "metadata": {},
   "source": [
    "## Opening and exploring the Data\n",
    "\n",
    "[A data set](https://www.kaggle.com/lava18/google-play-store-apps/home) Containing data about approximately Android Apps from Google Play\n",
    "\n",
    "[A data set](https://www.kaggle.com/ramamet4/app-store-apple-data-set-10k-apps/home) Containing data about ios Apps from App Store.\n",
    "\n",
    "Lets Start by opening two data sets and then continue with exploring the data"
   ]
  },
  {
   "cell_type": "code",
   "execution_count": 20,
   "metadata": {},
   "outputs": [],
   "source": [
    "##App Store\n",
    "openAppleStore = open(\"Downloads/app-store-apple-data-set-10k-apps/AppleStore.csv\", encoding=\"utf8\")\n",
    "from csv import reader\n",
    "readAppStore = reader(openAppleStore)\n",
    "appleDataSet = list(readAppStore)\n",
    "appleHeader = appleDataSet[0]\n",
    "ios = appleDataSet[1:]\n",
    "\n",
    "\n",
    "## Google Play Store\n",
    "openGooglePlay = open(\"Downloads/google-play-store-apps/googleplaystore.csv\", encoding=\"utf8\")\n",
    "from csv import reader\n",
    "readGooglePlay = reader(openGooglePlay)\n",
    "googleDataSet = list(readGooglePlay)\n",
    "androidHeader = googleDataSet[0]\n",
    "android = googleDataSet[1:]"
   ]
  },
  {
   "cell_type": "markdown",
   "metadata": {},
   "source": [
    "To make it easier to explore the two data sets, we will first write a function named explore_Data() that we can use repeatedly to explore rows in a more readable way, we will also introduce a parameter rows_and_columns, which can be used to show the number of rows and columns "
   ]
  },
  {
   "cell_type": "code",
   "execution_count": 21,
   "metadata": {},
   "outputs": [],
   "source": [
    "def explore_Data(data_set, start, end, rows_and_columns= False):\n",
    "    dataSet = data_set[start:end]\n",
    "    for row in dataSet:\n",
    "        print(row)\n",
    "        print(\"\\n\")\n",
    "    if rows_and_columns:\n",
    "        print(\"Number of rows \",len(data_set))  \n",
    "        print(\"Number of columns \", len(data_set[0]))  "
   ]
  },
  {
   "cell_type": "code",
   "execution_count": 22,
   "metadata": {},
   "outputs": [
    {
     "name": "stdout",
     "output_type": "stream",
     "text": [
      "['App', 'Category', 'Rating', 'Reviews', 'Size', 'Installs', 'Type', 'Price', 'Content Rating', 'Genres', 'Last Updated', 'Current Ver', 'Android Ver']\n",
      "\n",
      "\n",
      "['Coloring book moana', 'ART_AND_DESIGN', '3.9', '967', '14M', '500,000+', 'Free', '0', 'Everyone', 'Art & Design;Pretend Play', 'January 15, 2018', '2.0.0', '4.0.3 and up']\n",
      "\n",
      "\n",
      "['U Launcher Lite – FREE Live Cool Themes, Hide Apps', 'ART_AND_DESIGN', '4.7', '87510', '8.7M', '5,000,000+', 'Free', '0', 'Everyone', 'Art & Design', 'August 1, 2018', '1.2.4', '4.0.3 and up']\n",
      "\n",
      "\n",
      "Number of rows  10841\n",
      "Number of columns  13\n"
     ]
    }
   ],
   "source": [
    "print(androidHeader)\n",
    "print(\"\\n\")\n",
    "explore_Data(android, 1, 3, True)"
   ]
  },
  {
   "cell_type": "markdown",
   "metadata": {},
   "source": [
    "Now, we can see that we Play store has 10841 apps, and 13 Columns."
   ]
  },
  {
   "cell_type": "code",
   "execution_count": null,
   "metadata": {},
   "outputs": [],
   "source": []
  }
 ],
 "metadata": {
  "kernelspec": {
   "display_name": "Python 3",
   "language": "python",
   "name": "python3"
  },
  "language_info": {
   "codemirror_mode": {
    "name": "ipython",
    "version": 3
   },
   "file_extension": ".py",
   "mimetype": "text/x-python",
   "name": "python",
   "nbconvert_exporter": "python",
   "pygments_lexer": "ipython3",
   "version": "3.6.5"
  }
 },
 "nbformat": 4,
 "nbformat_minor": 2
}
