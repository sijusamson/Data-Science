{
 "cells": [
  {
   "cell_type": "markdown",
   "metadata": {},
   "source": [
    "# App profiles for Google Play and App Store\n",
    "Our aim in this project is to find mobile apps that are profitable to App Store and Google Play. We build apps that are free to download and install, and our main source of revenue consists of in-app ads. This means our revenue for any given app is mostly influenced by the number of users who use our app."
   ]
  },
  {
   "cell_type": "markdown",
   "metadata": {},
   "source": [
    "## Opening and exploring the Data\n",
    "\n",
    "[A data set](https://www.kaggle.com/lava18/google-play-store-apps/home) Containing data about approximately Android Apps from Google Play\n",
    "\n",
    "[A data set](https://www.kaggle.com/ramamet4/app-store-apple-data-set-10k-apps/home) Containing data about ios Apps from App Store.\n",
    "\n",
    "Lets Start by opening two data sets and then continue with exploring the data"
   ]
  },
  {
   "cell_type": "code",
   "execution_count": 1,
   "metadata": {},
   "outputs": [],
   "source": [
    "##App Store\n",
    "openAppleStore = open(\"Downloads/app-store-apple-data-set-10k-apps/AppleStore.csv\", encoding=\"utf8\")\n",
    "from csv import reader\n",
    "readAppStore = reader(openAppleStore)\n",
    "appleDataSet = list(readAppStore)\n",
    "iosHeader = appleDataSet[0]\n",
    "ios = appleDataSet[1:]\n",
    "\n",
    "\n",
    "## Google Play Store\n",
    "openGooglePlay = open(\"Downloads/google-play-store-apps/googleplaystore.csv\", encoding=\"utf8\")\n",
    "from csv import reader\n",
    "readGooglePlay = reader(openGooglePlay)\n",
    "googleDataSet = list(readGooglePlay)\n",
    "androidHeader = googleDataSet[0]\n",
    "android = googleDataSet[1:]"
   ]
  },
  {
   "cell_type": "markdown",
   "metadata": {},
   "source": [
    "To make it easier to explore the two data sets, we will first write a function named explore_Data() that we can use repeatedly to explore rows in a more readable way, we will also introduce a parameter rows_and_columns, which can be used to show the number of rows and columns "
   ]
  },
  {
   "cell_type": "code",
   "execution_count": 2,
   "metadata": {},
   "outputs": [],
   "source": [
    "def explore_Data(data_set, start, end, rows_and_columns= False):\n",
    "    dataSet = data_set[start:end]\n",
    "    for row in dataSet:\n",
    "        print(row)\n",
    "        print(\"\\n\")\n",
    "    if rows_and_columns:\n",
    "        print(\"Number of rows \",len(data_set))  \n",
    "        print(\"Number of columns \", len(data_set[0]))  "
   ]
  },
  {
   "cell_type": "code",
   "execution_count": 3,
   "metadata": {},
   "outputs": [
    {
     "name": "stdout",
     "output_type": "stream",
     "text": [
      "['App', 'Category', 'Rating', 'Reviews', 'Size', 'Installs', 'Type', 'Price', 'Content Rating', 'Genres', 'Last Updated', 'Current Ver', 'Android Ver']\n",
      "\n",
      "\n",
      "['Photo Editor & Candy Camera & Grid & ScrapBook', 'ART_AND_DESIGN', '4.1', '159', '19M', '10,000+', 'Free', '0', 'Everyone', 'Art & Design', 'January 7, 2018', '1.0.0', '4.0.3 and up']\n",
      "\n",
      "\n",
      "['Coloring book moana', 'ART_AND_DESIGN', '3.9', '967', '14M', '500,000+', 'Free', '0', 'Everyone', 'Art & Design;Pretend Play', 'January 15, 2018', '2.0.0', '4.0.3 and up']\n",
      "\n",
      "\n",
      "['U Launcher Lite – FREE Live Cool Themes, Hide Apps', 'ART_AND_DESIGN', '4.7', '87510', '8.7M', '5,000,000+', 'Free', '0', 'Everyone', 'Art & Design', 'August 1, 2018', '1.2.4', '4.0.3 and up']\n",
      "\n",
      "\n",
      "Number of rows  10841\n",
      "Number of columns  13\n"
     ]
    }
   ],
   "source": [
    "print(androidHeader)\n",
    "print(\"\\n\")\n",
    "explore_Data(android, 0, 3, True)"
   ]
  },
  {
   "cell_type": "markdown",
   "metadata": {},
   "source": [
    "Now, we can see that we Play store has 10841 apps, and 13 Columns."
   ]
  },
  {
   "cell_type": "code",
   "execution_count": 4,
   "metadata": {},
   "outputs": [
    {
     "name": "stdout",
     "output_type": "stream",
     "text": [
      "['', 'id', 'track_name', 'size_bytes', 'currency', 'price', 'rating_count_tot', 'rating_count_ver', 'user_rating', 'user_rating_ver', 'ver', 'cont_rating', 'prime_genre', 'sup_devices.num', 'ipadSc_urls.num', 'lang.num', 'vpp_lic']\n",
      "\n",
      "\n",
      "['1', '281656475', 'PAC-MAN Premium', '100788224', 'USD', '3.99', '21292', '26', '4', '4.5', '6.3.5', '4+', 'Games', '38', '5', '10', '1']\n",
      "\n",
      "\n",
      "['2', '281796108', 'Evernote - stay organized', '158578688', 'USD', '0', '161065', '26', '4', '3.5', '8.2.2', '4+', 'Productivity', '37', '5', '23', '1']\n",
      "\n",
      "\n",
      "['3', '281940292', 'WeatherBug - Local Weather, Radar, Maps, Alerts', '100524032', 'USD', '0', '188583', '2822', '3.5', '4.5', '5.0.0', '4+', 'Weather', '37', '5', '3', '1']\n",
      "\n",
      "\n",
      "Number of rows  7197\n",
      "Number of columns  17\n"
     ]
    }
   ],
   "source": [
    "print(iosHeader)\n",
    "print(\"\\n\")\n",
    "explore_Data(ios, 0, 3, True)"
   ]
  },
  {
   "cell_type": "markdown",
   "metadata": {},
   "source": [
    "Now, we can see we have 7197 rows, and 17 columns."
   ]
  },
  {
   "cell_type": "markdown",
   "metadata": {},
   "source": [
    "# Deleting wrong Data"
   ]
  },
  {
   "cell_type": "markdown",
   "metadata": {},
   "source": [
    "The Google Play Dataset has a [discussion section](https://www.kaggle.com/lava18/google-play-store-apps/discussion), and we can see in one of the [discussion](https://www.kaggle.com/lava18/google-play-store-apps/discussion/66015), they outline a error for row 10472, let's just print that row and compare to other row."
   ]
  },
  {
   "cell_type": "code",
   "execution_count": 5,
   "metadata": {},
   "outputs": [
    {
     "name": "stdout",
     "output_type": "stream",
     "text": [
      "['Life Made WI-Fi Touchscreen Photo Frame', '1.9', '19', '3.0M', '1,000+', 'Free', '0', 'Everyone', '', 'February 11, 2018', '1.0.19', '4.0 and up']\n",
      "['App', 'Category', 'Rating', 'Reviews', 'Size', 'Installs', 'Type', 'Price', 'Content Rating', 'Genres', 'Last Updated', 'Current Ver', 'Android Ver']\n",
      "['Coloring book moana', 'ART_AND_DESIGN', '3.9', '967', '14M', '500,000+', 'Free', '0', 'Everyone', 'Art & Design;Pretend Play', 'January 15, 2018', '2.0.0', '4.0.3 and up']\n"
     ]
    }
   ],
   "source": [
    "print(android[10472]) # printing 10472 row\n",
    "print(androidHeader)  # printing Android Header\n",
    "print(android[1])  # printing 1st row for comparison"
   ]
  },
  {
   "cell_type": "markdown",
   "metadata": {},
   "source": [
    "The row 10472 corresponds to 'Life Made WI-Fi Touchscreen Photo Frame', and we can clearly see that rating is '19', which is clearly wrong, as maximum rating for Google PlayStore is 5, So we need to delete this row. "
   ]
  },
  {
   "cell_type": "code",
   "execution_count": 6,
   "metadata": {},
   "outputs": [
    {
     "name": "stdout",
     "output_type": "stream",
     "text": [
      "10841\n",
      "10840\n"
     ]
    }
   ],
   "source": [
    "print(len(android)) \n",
    "del android[10472]  #deleting the wrong row\n",
    "print(len(android))"
   ]
  },
  {
   "cell_type": "markdown",
   "metadata": {},
   "source": [
    "If we go through Google Play data, we can see some apps are being repeated, For example Instagram has four entries."
   ]
  },
  {
   "cell_type": "code",
   "execution_count": 7,
   "metadata": {},
   "outputs": [
    {
     "name": "stdout",
     "output_type": "stream",
     "text": [
      "['Instagram', 'SOCIAL', '4.5', '66577313', 'Varies with device', '1,000,000,000+', 'Free', '0', 'Teen', 'Social', 'July 31, 2018', 'Varies with device', 'Varies with device']\n",
      "['Instagram', 'SOCIAL', '4.5', '66577446', 'Varies with device', '1,000,000,000+', 'Free', '0', 'Teen', 'Social', 'July 31, 2018', 'Varies with device', 'Varies with device']\n",
      "['Instagram', 'SOCIAL', '4.5', '66577313', 'Varies with device', '1,000,000,000+', 'Free', '0', 'Teen', 'Social', 'July 31, 2018', 'Varies with device', 'Varies with device']\n",
      "['Instagram', 'SOCIAL', '4.5', '66509917', 'Varies with device', '1,000,000,000+', 'Free', '0', 'Teen', 'Social', 'July 31, 2018', 'Varies with device', 'Varies with device']\n"
     ]
    }
   ],
   "source": [
    "for app in android:\n",
    "    if \"Instagram\"== app[0]:\n",
    "        print(app)"
   ]
  },
  {
   "cell_type": "code",
   "execution_count": 8,
   "metadata": {},
   "outputs": [
    {
     "name": "stdout",
     "output_type": "stream",
     "text": [
      "unique_apps 9659\n",
      "/n\n",
      "duplicate_apps 1181\n",
      "['Quick PDF Scanner + OCR FREE', 'Box', 'Google My Business', 'ZOOM Cloud Meetings', 'join.me - Simple Meetings', 'Box', 'Zenefits', 'Google Ads', 'Google My Business', 'Slack', 'FreshBooks Classic', 'Insightly CRM', 'QuickBooks Accounting: Invoicing & Expenses', 'HipChat - Chat Built for Teams', 'Xero Accounting Software']\n"
     ]
    }
   ],
   "source": [
    "unique_apps = []\n",
    "duplicate_apps = []\n",
    "for app in android:\n",
    "    name = app[0]\n",
    "    if name in unique_apps:\n",
    "        duplicate_apps.append(name);\n",
    "    else:\n",
    "        unique_apps.append(name)\n",
    "print(\"unique_apps\", len(unique_apps));\n",
    "print(\"/n\");\n",
    "print(\"duplicate_apps\", len(duplicate_apps));\n",
    "print(duplicate_apps[:15])"
   ]
  },
  {
   "cell_type": "markdown",
   "metadata": {},
   "source": [
    "As, we can see there are 1181 cases where apps are being repeated.\n",
    "We dont't want to count apps more than once, when we analyze data. So, we need to remove duplicate entries and keep only one entry per app. One way which we could do is deleting randomly, but we can find a better way."
   ]
  },
  {
   "cell_type": "markdown",
   "metadata": {},
   "source": [
    "If, we can examine the data which we have printed for Instagram, we can see rows are pretty much same, but the main difference happens in 4th column, i.e Reviews. The different number shows these data where collected at different times. We can use this to build a criterion for keeping rows. We won't remove rows randomly, but rather we'll keep the rows that have the highest number of reviews because the higher the number of reviews, the more reliable the ratings. "
   ]
  },
  {
   "cell_type": "markdown",
   "metadata": {},
   "source": [
    "To do that, we will :\n"
   ]
  },
  {
   "cell_type": "markdown",
   "metadata": {},
   "source": [
    "1) Create a dictionary, where each key is a unique app name, and value is the highest number of reviews of that app.\n"
   ]
  },
  {
   "cell_type": "markdown",
   "metadata": {},
   "source": [
    "2) Use the dictionary to create a new data set, which will have only one entry per app (and we only select the apps with the highest number of reviews)"
   ]
  },
  {
   "cell_type": "code",
   "execution_count": 9,
   "metadata": {},
   "outputs": [
    {
     "name": "stdout",
     "output_type": "stream",
     "text": [
      "9659\n"
     ]
    }
   ],
   "source": [
    "review_max = {}\n",
    "for row in android:\n",
    "    name  = row[0]\n",
    "    n_reviews = float(row[3])\n",
    "    if name in review_max and n_reviews> review_max[name]:\n",
    "        review_max[name] = n_reviews\n",
    "    elif name not in review_max:\n",
    "            review_max[name] =  n_reviews\n",
    "print(len(review_max))            "
   ]
  },
  {
   "cell_type": "markdown",
   "metadata": {},
   "source": [
    "In the previous code cell, we found that there are 1,181 cases where our app occurs more than once, so the length of our dictionary will be difference between our data set and 1,181."
   ]
  },
  {
   "cell_type": "code",
   "execution_count": 10,
   "metadata": {},
   "outputs": [
    {
     "name": "stdout",
     "output_type": "stream",
     "text": [
      "Expected Length 9659\n",
      "Actual length 9659\n"
     ]
    }
   ],
   "source": [
    "print(\"Expected Length\", len(android) - 1181)\n",
    "print(\"Actual length\", len(review_max))"
   ]
  },
  {
   "cell_type": "markdown",
   "metadata": {},
   "source": [
    "Now, let's use this dictionary to remove the duplicate data. For, the duplicate cases, we only keep the entries with maximum number of reviews.\n",
    "* We start by initializing two empty lists, android_clean and already_added.\n",
    "* We loop through the android data set, and for every iteration:\n",
    "        * we assign the name of the app and the number of reviews.\n",
    "        * We add the current row (app) to the android_clean list, and the app name (name) to the already_cleaned list if:\n",
    "                 * The number of reviews of the current app matches the number of reviews of that app as described in the\n",
    "                 reviews_max dictionary \n",
    "                 * The name of the app is not already in the already_added list list"
   ]
  },
  {
   "cell_type": "code",
   "execution_count": 11,
   "metadata": {},
   "outputs": [],
   "source": [
    "android_clean = []\n",
    "already_added = []\n",
    "for row in android:\n",
    "    name = row[0]\n",
    "    review = float(row[3])\n",
    "    if  (review_max[name] ==  review) and (name not in already_added) :  # checking the condition\n",
    "        android_clean.append(row)\n",
    "        already_added.append(name) "
   ]
  },
  {
   "cell_type": "markdown",
   "metadata": {},
   "source": [
    "Now, lets explore the new data set, and cross check whether the number of rows is 9659\n"
   ]
  },
  {
   "cell_type": "code",
   "execution_count": 12,
   "metadata": {},
   "outputs": [
    {
     "name": "stdout",
     "output_type": "stream",
     "text": [
      "['Photo Editor & Candy Camera & Grid & ScrapBook', 'ART_AND_DESIGN', '4.1', '159', '19M', '10,000+', 'Free', '0', 'Everyone', 'Art & Design', 'January 7, 2018', '1.0.0', '4.0.3 and up']\n",
      "\n",
      "\n",
      "['U Launcher Lite – FREE Live Cool Themes, Hide Apps', 'ART_AND_DESIGN', '4.7', '87510', '8.7M', '5,000,000+', 'Free', '0', 'Everyone', 'Art & Design', 'August 1, 2018', '1.2.4', '4.0.3 and up']\n",
      "\n",
      "\n",
      "['Sketch - Draw & Paint', 'ART_AND_DESIGN', '4.5', '215644', '25M', '50,000,000+', 'Free', '0', 'Teen', 'Art & Design', 'June 8, 2018', 'Varies with device', '4.2 and up']\n",
      "\n",
      "\n",
      "Number of rows  9659\n",
      "Number of columns  13\n"
     ]
    }
   ],
   "source": [
    "explore_Data(android_clean, 0, 3, True)"
   ]
  },
  {
   "cell_type": "markdown",
   "metadata": {},
   "source": [
    "As expected we have 9659 rows."
   ]
  },
  {
   "cell_type": "markdown",
   "metadata": {},
   "source": [
    "# Removing Non-English apps\n"
   ]
  },
  {
   "cell_type": "markdown",
   "metadata": {},
   "source": [
    "## Part One "
   ]
  },
  {
   "cell_type": "markdown",
   "metadata": {},
   "source": [
    "If you explore this data set, you'll notice the names of some of the apps suggest they are not directed toward an English-speaking audience. Below, we see a couple of examples from both data sets:"
   ]
  },
  {
   "cell_type": "code",
   "execution_count": 13,
   "metadata": {},
   "outputs": [
    {
     "name": "stdout",
     "output_type": "stream",
     "text": [
      "搜狐新闻—新闻热点资讯掌上阅读软件\n",
      "中国語 AQリスニング\n",
      "لعبة تقدر تربح DZ\n"
     ]
    }
   ],
   "source": [
    "print(ios[814][2])\n",
    "print(android_clean[4412][0])\n",
    "print(android_clean[7940][0])"
   ]
  },
  {
   "cell_type": "markdown",
   "metadata": {},
   "source": [
    "We are not interested in keeping there kind of apps, so we will remove them. One way to remove each app whose name contains a symbol that is not commonly used in English text — English text usually includes letters from the English alphabet, numbers composed of digits from 0 to 9, punctuation marks (., !, ?, ;, etc.), and other symbols (+, *, /, etc.).\n",
    "\n",
    "All these characters that are specific to English texts are encoded using the ASCII standard. Each ASCII character has a corresponding number between 0 and 127 associated with it, and we can take advantage of that to build a function that checks an app name and tells us whether it contains non-ASCII characters.\n",
    "\n",
    "We built this function below, and we use the built-in ord() function to find out the corresponding encoding number of each character."
   ]
  },
  {
   "cell_type": "code",
   "execution_count": 14,
   "metadata": {},
   "outputs": [
    {
     "name": "stdout",
     "output_type": "stream",
     "text": [
      "True\n",
      "False\n"
     ]
    }
   ],
   "source": [
    "def is_English(text):\n",
    "    for character in text:\n",
    "        if ord(character) > 127:\n",
    "            return False\n",
    "    \n",
    "    return True\n",
    "\n",
    "print(is_English('Instagram'))\n",
    "print(is_English('爱奇艺PPS -《欢乐颂2》电视剧热播')) "
   ]
  },
  {
   "cell_type": "markdown",
   "metadata": {},
   "source": [
    "This seems to work fine but some English apps use emojis, that fall outside ASCII range, because of this we will remove some useful apps."
   ]
  },
  {
   "cell_type": "markdown",
   "metadata": {},
   "source": [
    "## Part two "
   ]
  },
  {
   "cell_type": "markdown",
   "metadata": {},
   "source": [
    "To minimise the impact we can eliminate those apps who has more than three non-ASCII characters. "
   ]
  },
  {
   "cell_type": "code",
   "execution_count": 15,
   "metadata": {},
   "outputs": [
    {
     "name": "stdout",
     "output_type": "stream",
     "text": [
      "True\n",
      "False\n",
      "True\n",
      "True\n"
     ]
    }
   ],
   "source": [
    "def isEnglish(text):\n",
    "    non_ascii = 0\n",
    "    for character in text:\n",
    "        if ord(character) >  127:\n",
    "            non_ascii += 1\n",
    "    if non_ascii > 3:\n",
    "        return False\n",
    "    else: \n",
    "        return True\n",
    "    \n",
    "print(isEnglish('Instagram'))\n",
    "print(isEnglish('爱奇艺PPS -《欢乐颂2》电视剧热播'))     \n",
    "print(isEnglish('Docs To Go™ Free Office Suite'))\n",
    "print(isEnglish('Instachat 😜'))"
   ]
  },
  {
   "cell_type": "markdown",
   "metadata": {},
   "source": [
    "Below, we use isEnglish() to filter out the non-english apps for both data sets"
   ]
  },
  {
   "cell_type": "code",
   "execution_count": 16,
   "metadata": {},
   "outputs": [
    {
     "name": "stdout",
     "output_type": "stream",
     "text": [
      "6183\n",
      "9614\n"
     ]
    }
   ],
   "source": [
    "ios_English = []\n",
    "android_English = []\n",
    "for row in android_clean:\n",
    "    name = row[0]\n",
    "    if isEnglish(name):\n",
    "        android_English.append(row)\n",
    "        \n",
    "for row in ios:\n",
    "    name = row[2]\n",
    "    if isEnglish(name):\n",
    "        ios_English.append(row)\n",
    "print(len(ios_English))\n",
    "print(len(android_English))"
   ]
  },
  {
   "cell_type": "markdown",
   "metadata": {},
   "source": [
    "We are left with 6184 ios apps and 9614 android apps"
   ]
  },
  {
   "cell_type": "markdown",
   "metadata": {},
   "source": [
    "# Isolating the free apps"
   ]
  },
  {
   "cell_type": "code",
   "execution_count": 17,
   "metadata": {},
   "outputs": [
    {
     "name": "stdout",
     "output_type": "stream",
     "text": [
      "3222\n",
      "8864\n"
     ]
    }
   ],
   "source": [
    "ios_final = []\n",
    "android_final = []\n",
    "for row in android_English:\n",
    "    price = row[7]\n",
    "    if price == \"0\":\n",
    "        android_final.append(row)      \n",
    "for row in ios_English:\n",
    "    price = row[5]\n",
    "    if price == \"0\":\n",
    "        ios_final.append(row)\n",
    "print(len(ios_final))\n",
    "print(len(android_final))\n",
    "        "
   ]
  },
  {
   "cell_type": "markdown",
   "metadata": {},
   "source": [
    "We are left with 3222 ios apps, and 8864 android apps"
   ]
  },
  {
   "cell_type": "markdown",
   "metadata": {},
   "source": [
    "# Most common apps by genre"
   ]
  },
  {
   "cell_type": "markdown",
   "metadata": {},
   "source": [
    "Our aim is to determine the kinds of apps that are likely to attract more users because our revenue is highly influenced by the number of people using our apps.\n",
    "\n",
    "To minimize risks and overhead, our validation strategy for an app idea is comprised of three steps:\n",
    "* Build a minimal Android version of the app, and add it to Google Play.\n",
    "* If the app has a good response from users, we then develop it further.\n",
    "* If the app is profitable after six months, we also build an iOS version of the app and add it to the App Store.\n",
    "\n",
    "Because our end goal is to add the app on both the App Store and Google Play, we need to find app profiles that are successful on both markets. For instance, a profile that might work well for both markets might be a productivity app that makes use of gamification."
   ]
  },
  {
   "cell_type": "markdown",
   "metadata": {},
   "source": [
    "We'll build two functions we can use to analyze the frequency tables:\n",
    "* One function to generate frequency tables that show percentages\n",
    "* Another function that we can use to display the percentages in a descending order"
   ]
  },
  {
   "cell_type": "code",
   "execution_count": 18,
   "metadata": {},
   "outputs": [],
   "source": [
    "def freq_table(dataset, index):\n",
    "    table = {}\n",
    "    total = 0\n",
    "    for row in dataset: \n",
    "        total+=1\n",
    "        value = row[index]\n",
    "        if value in table:\n",
    "            table[value]+=1\n",
    "        else:\n",
    "            table[value] = 1        \n",
    "    table_percentages = {}\n",
    "    for row in table:\n",
    "        percentage = (table[row]/total) * 100\n",
    "        table_percentages[row] = percentage\n",
    "    return table_percentages       "
   ]
  },
  {
   "cell_type": "code",
   "execution_count": 19,
   "metadata": {},
   "outputs": [],
   "source": [
    "def display_table(dataset, index):\n",
    "    table = freq_table(dataset, index)\n",
    "    table_display = []\n",
    "    for key in table:\n",
    "        key_value_as_tuple = (table[key],key)\n",
    "        table_display.append(key_value_as_tuple)\n",
    "    table_sorted = sorted(table_display, reverse = True)\n",
    "    for entry in table_sorted:\n",
    "        print(entry[1] ,\": \", entry[0] )"
   ]
  },
  {
   "cell_type": "code",
   "execution_count": 20,
   "metadata": {},
   "outputs": [
    {
     "name": "stdout",
     "output_type": "stream",
     "text": [
      "Games :  58.16263190564867\n",
      "Entertainment :  7.883302296710118\n",
      "Photo & Video :  4.9658597144630665\n",
      "Education :  3.662321539416512\n",
      "Social Networking :  3.2898820608317814\n",
      "Shopping :  2.60707635009311\n",
      "Utilities :  2.5139664804469275\n",
      "Sports :  2.1415270018621975\n",
      "Music :  2.0484171322160147\n",
      "Health & Fitness :  2.0173805090006205\n",
      "Productivity :  1.7380509000620732\n",
      "Lifestyle :  1.5828677839851024\n",
      "News :  1.3345747982619491\n",
      "Travel :  1.2414649286157666\n",
      "Finance :  1.1173184357541899\n",
      "Weather :  0.8690254500310366\n",
      "Food & Drink :  0.8069522036002483\n",
      "Reference :  0.5586592178770949\n",
      "Business :  0.5276225946617008\n",
      "Book :  0.4345127250155183\n",
      "Navigation :  0.186219739292365\n",
      "Medical :  0.186219739292365\n",
      "Catalogs :  0.12414649286157665\n"
     ]
    }
   ],
   "source": [
    "display_table(ios_final, -5)"
   ]
  },
  {
   "cell_type": "markdown",
   "metadata": {},
   "source": [
    "We can see among the english free apps, more than half of them are games. Entertainment apps are close to 8%, Photo and video apps are close to 5%, followed by Education and Social Networking. \n",
    "\n",
    "So in IOS apps (at least the part containing free English apps), we can conclude most of the apps which is dominating are designed for fun (games, entertainment, photo and video, social networking, sports, music, etc.), while apps with practical purposes (education, shopping, utilities, productivity, lifestyle, etc.) are more only few.\n",
    "\n",
    "\n",
    "Let's now continue by examining the genre and Category columns of the Google Play dataset."
   ]
  },
  {
   "cell_type": "code",
   "execution_count": 22,
   "metadata": {},
   "outputs": [
    {
     "name": "stdout",
     "output_type": "stream",
     "text": [
      "FAMILY :  18.907942238267147\n",
      "GAME :  9.724729241877256\n",
      "TOOLS :  8.461191335740072\n",
      "BUSINESS :  4.591606498194946\n",
      "LIFESTYLE :  3.9034296028880866\n",
      "PRODUCTIVITY :  3.892148014440433\n",
      "FINANCE :  3.7003610108303246\n",
      "MEDICAL :  3.531137184115524\n",
      "SPORTS :  3.395758122743682\n",
      "PERSONALIZATION :  3.3167870036101084\n",
      "COMMUNICATION :  3.2378158844765346\n",
      "HEALTH_AND_FITNESS :  3.0798736462093865\n",
      "PHOTOGRAPHY :  2.944494584837545\n",
      "NEWS_AND_MAGAZINES :  2.7978339350180503\n",
      "SOCIAL :  2.6624548736462095\n",
      "TRAVEL_AND_LOCAL :  2.33528880866426\n",
      "SHOPPING :  2.2450361010830324\n",
      "BOOKS_AND_REFERENCE :  2.1435018050541514\n",
      "DATING :  1.861462093862816\n",
      "VIDEO_PLAYERS :  1.7937725631768955\n",
      "MAPS_AND_NAVIGATION :  1.3989169675090252\n",
      "FOOD_AND_DRINK :  1.2409747292418771\n",
      "EDUCATION :  1.1620036101083033\n",
      "ENTERTAINMENT :  0.9589350180505415\n",
      "LIBRARIES_AND_DEMO :  0.9363718411552346\n",
      "AUTO_AND_VEHICLES :  0.9250902527075812\n",
      "HOUSE_AND_HOME :  0.8235559566787004\n",
      "WEATHER :  0.8009927797833934\n",
      "EVENTS :  0.7107400722021661\n",
      "PARENTING :  0.6543321299638989\n",
      "ART_AND_DESIGN :  0.6430505415162455\n",
      "COMICS :  0.6204873646209386\n",
      "BEAUTY :  0.5979241877256317\n"
     ]
    }
   ],
   "source": [
    "display_table(android_final, 1)"
   ]
  },
  {
   "cell_type": "markdown",
   "metadata": {},
   "source": [
    "The scenario looks different in Google Play:  there are not that many apps designed for fun, and it seems that a good number of apps are designed for practical purposes (family, tools, business, lifestyle, productivity, etc.). However, if we investigate this further, we can see that the family category (which accounts for almost 19% of the apps) means mostly games for kids.\n",
    "\n",
    "Even so, practical apps seem to have a better representation on Google Play compared to App Store. This picture is also confirmed by the frequency table we see for the Genres column:"
   ]
  },
  {
   "cell_type": "code",
   "execution_count": 23,
   "metadata": {},
   "outputs": [
    {
     "name": "stdout",
     "output_type": "stream",
     "text": [
      "Tools :  8.449909747292418\n",
      "Entertainment :  6.069494584837545\n",
      "Education :  5.347472924187725\n",
      "Business :  4.591606498194946\n",
      "Productivity :  3.892148014440433\n",
      "Lifestyle :  3.892148014440433\n",
      "Finance :  3.7003610108303246\n",
      "Medical :  3.531137184115524\n",
      "Sports :  3.463447653429603\n",
      "Personalization :  3.3167870036101084\n",
      "Communication :  3.2378158844765346\n",
      "Action :  3.1024368231046933\n",
      "Health & Fitness :  3.0798736462093865\n",
      "Photography :  2.944494584837545\n",
      "News & Magazines :  2.7978339350180503\n",
      "Social :  2.6624548736462095\n",
      "Travel & Local :  2.3240072202166067\n",
      "Shopping :  2.2450361010830324\n",
      "Books & Reference :  2.1435018050541514\n",
      "Simulation :  2.0419675090252705\n",
      "Dating :  1.861462093862816\n",
      "Arcade :  1.8501805054151623\n",
      "Video Players & Editors :  1.7712093862815883\n",
      "Casual :  1.7599277978339352\n",
      "Maps & Navigation :  1.3989169675090252\n",
      "Food & Drink :  1.2409747292418771\n",
      "Puzzle :  1.128158844765343\n",
      "Racing :  0.9927797833935018\n",
      "Role Playing :  0.9363718411552346\n",
      "Libraries & Demo :  0.9363718411552346\n",
      "Auto & Vehicles :  0.9250902527075812\n",
      "Strategy :  0.9138086642599278\n",
      "House & Home :  0.8235559566787004\n",
      "Weather :  0.8009927797833934\n",
      "Events :  0.7107400722021661\n",
      "Adventure :  0.6768953068592057\n",
      "Comics :  0.6092057761732852\n",
      "Beauty :  0.5979241877256317\n",
      "Art & Design :  0.5979241877256317\n",
      "Parenting :  0.4963898916967509\n",
      "Card :  0.45126353790613716\n",
      "Casino :  0.42870036101083037\n",
      "Trivia :  0.41741877256317694\n",
      "Educational;Education :  0.39485559566787\n",
      "Board :  0.3835740072202166\n",
      "Educational :  0.3722924187725632\n",
      "Education;Education :  0.33844765342960287\n",
      "Word :  0.2594765342960289\n",
      "Casual;Pretend Play :  0.236913357400722\n",
      "Music :  0.2030685920577617\n",
      "Racing;Action & Adventure :  0.16922382671480143\n",
      "Puzzle;Brain Games :  0.16922382671480143\n",
      "Entertainment;Music & Video :  0.16922382671480143\n",
      "Casual;Brain Games :  0.13537906137184114\n",
      "Casual;Action & Adventure :  0.13537906137184114\n",
      "Arcade;Action & Adventure :  0.12409747292418773\n",
      "Action;Action & Adventure :  0.10153429602888085\n",
      "Educational;Pretend Play :  0.09025270758122744\n",
      "Simulation;Action & Adventure :  0.078971119133574\n",
      "Parenting;Education :  0.078971119133574\n",
      "Entertainment;Brain Games :  0.078971119133574\n",
      "Board;Brain Games :  0.078971119133574\n",
      "Parenting;Music & Video :  0.06768953068592057\n",
      "Educational;Brain Games :  0.06768953068592057\n",
      "Casual;Creativity :  0.06768953068592057\n",
      "Art & Design;Creativity :  0.06768953068592057\n",
      "Education;Pretend Play :  0.056407942238267145\n",
      "Role Playing;Pretend Play :  0.04512635379061372\n",
      "Education;Creativity :  0.04512635379061372\n",
      "Role Playing;Action & Adventure :  0.033844765342960284\n",
      "Puzzle;Action & Adventure :  0.033844765342960284\n",
      "Entertainment;Creativity :  0.033844765342960284\n",
      "Entertainment;Action & Adventure :  0.033844765342960284\n",
      "Educational;Creativity :  0.033844765342960284\n",
      "Educational;Action & Adventure :  0.033844765342960284\n",
      "Education;Music & Video :  0.033844765342960284\n",
      "Education;Brain Games :  0.033844765342960284\n",
      "Education;Action & Adventure :  0.033844765342960284\n",
      "Adventure;Action & Adventure :  0.033844765342960284\n",
      "Video Players & Editors;Music & Video :  0.02256317689530686\n",
      "Sports;Action & Adventure :  0.02256317689530686\n",
      "Simulation;Pretend Play :  0.02256317689530686\n",
      "Puzzle;Creativity :  0.02256317689530686\n",
      "Music;Music & Video :  0.02256317689530686\n",
      "Entertainment;Pretend Play :  0.02256317689530686\n",
      "Casual;Education :  0.02256317689530686\n",
      "Board;Action & Adventure :  0.02256317689530686\n",
      "Video Players & Editors;Creativity :  0.01128158844765343\n",
      "Trivia;Education :  0.01128158844765343\n",
      "Travel & Local;Action & Adventure :  0.01128158844765343\n",
      "Tools;Education :  0.01128158844765343\n",
      "Strategy;Education :  0.01128158844765343\n",
      "Strategy;Creativity :  0.01128158844765343\n",
      "Strategy;Action & Adventure :  0.01128158844765343\n",
      "Simulation;Education :  0.01128158844765343\n",
      "Role Playing;Brain Games :  0.01128158844765343\n",
      "Racing;Pretend Play :  0.01128158844765343\n",
      "Puzzle;Education :  0.01128158844765343\n",
      "Parenting;Brain Games :  0.01128158844765343\n",
      "Music & Audio;Music & Video :  0.01128158844765343\n",
      "Lifestyle;Pretend Play :  0.01128158844765343\n",
      "Lifestyle;Education :  0.01128158844765343\n",
      "Health & Fitness;Education :  0.01128158844765343\n",
      "Health & Fitness;Action & Adventure :  0.01128158844765343\n",
      "Entertainment;Education :  0.01128158844765343\n",
      "Communication;Creativity :  0.01128158844765343\n",
      "Comics;Creativity :  0.01128158844765343\n",
      "Casual;Music & Video :  0.01128158844765343\n",
      "Card;Action & Adventure :  0.01128158844765343\n",
      "Books & Reference;Education :  0.01128158844765343\n",
      "Art & Design;Pretend Play :  0.01128158844765343\n",
      "Art & Design;Action & Adventure :  0.01128158844765343\n",
      "Arcade;Pretend Play :  0.01128158844765343\n",
      "Adventure;Education :  0.01128158844765343\n"
     ]
    }
   ],
   "source": [
    "display_table(android_final, -4)"
   ]
  },
  {
   "cell_type": "markdown",
   "metadata": {},
   "source": [
    "The difference between the Genres and the Category columns is not crystal clear, but one thing we can notice is that the Genres column is much more granular (it has more categories). We're only looking for the bigger picture at the moment, so we'll only work with the Category column moving forward.\n",
    "\n",
    "Up to this point, we found that the App Store is dominated by apps designed for fun, while Google Play shows a more balanced landscape of both practical and for-fun apps. Now we'd like to get an idea about the kind of apps that have most users."
   ]
  },
  {
   "cell_type": "code",
   "execution_count": 24,
   "metadata": {},
   "outputs": [
    {
     "name": "stdout",
     "output_type": "stream",
     "text": [
      "{'Productivity': 1.7380509000620732, 'Weather': 0.8690254500310366, 'Shopping': 2.60707635009311, 'Reference': 0.5586592178770949, 'Finance': 1.1173184357541899, 'Music': 2.0484171322160147, 'Utilities': 2.5139664804469275, 'Travel': 1.2414649286157666, 'Social Networking': 3.2898820608317814, 'Sports': 2.1415270018621975, 'Health & Fitness': 2.0173805090006205, 'Games': 58.16263190564867, 'Food & Drink': 0.8069522036002483, 'News': 1.3345747982619491, 'Book': 0.4345127250155183, 'Photo & Video': 4.9658597144630665, 'Entertainment': 7.883302296710118, 'Business': 0.5276225946617008, 'Lifestyle': 1.5828677839851024, 'Education': 3.662321539416512, 'Navigation': 0.186219739292365, 'Medical': 0.186219739292365, 'Catalogs': 0.12414649286157665}\n"
     ]
    }
   ],
   "source": [
    "genre_ios = freq_table(ios_final, -5)\n",
    "print(genre_ios)"
   ]
  },
  {
   "cell_type": "code",
   "execution_count": 30,
   "metadata": {},
   "outputs": [
    {
     "name": "stdout",
     "output_type": "stream",
     "text": [
      "Productivity : 21028.410714285714\n",
      "Weather : 52279.892857142855\n",
      "Shopping : 26919.690476190477\n",
      "Reference : 74942.11111111111\n",
      "Finance : 31467.944444444445\n",
      "Music : 57326.530303030304\n",
      "Utilities : 18684.456790123455\n",
      "Travel : 28243.8\n",
      "Social Networking : 71548.34905660378\n",
      "Sports : 23008.898550724636\n",
      "Health & Fitness : 23298.015384615384\n",
      "Games : 22788.6696905016\n",
      "Food & Drink : 33333.92307692308\n",
      "News : 21248.023255813954\n",
      "Book : 39758.5\n",
      "Photo & Video : 28441.54375\n",
      "Entertainment : 14029.830708661417\n",
      "Business : 7491.117647058823\n",
      "Lifestyle : 16485.764705882353\n",
      "Education : 7003.983050847458\n",
      "Navigation : 86090.33333333333\n",
      "Medical : 612.0\n",
      "Catalogs : 4004.0\n"
     ]
    }
   ],
   "source": [
    "for genre in genre_ios:\n",
    "    total = 0\n",
    "    length = 0 \n",
    "    for app in ios_final:\n",
    "        genre_app = app[-5]\n",
    "        if genre_app == genre:\n",
    "            n_rating = float(app[6])\n",
    "            total += n_rating\n",
    "            length +=1\n",
    "    avg_n_Rating = total/length        \n",
    "    print(genre, \":\", avg_n_Rating)"
   ]
  },
  {
   "cell_type": "markdown",
   "metadata": {},
   "source": [
    "On average, navigation apps have the most number of user reviews, but this is heavily influenced by Google maps."
   ]
  },
  {
   "cell_type": "code",
   "execution_count": 40,
   "metadata": {
    "scrolled": true
   },
   "outputs": [
    {
     "name": "stdout",
     "output_type": "stream",
     "text": [
      "Waze - GPS Navigation, Maps & Real-time Traffic : 345046\n",
      "Geocaching® : 12811\n",
      "ImmobilienScout24: Real Estate Search in Germany : 187\n",
      "Railway Route Search : 5\n",
      "CoPilot GPS – Car Navigation & Offline Maps : 3582\n",
      "Google Maps - Navigation & Transit : 154911\n"
     ]
    }
   ],
   "source": [
    "for app in ios_final:\n",
    "    if app[-5]== \"Navigation\":     \n",
    "        print(app[2],':', app[6])"
   ]
  },
  {
   "cell_type": "code",
   "execution_count": 41,
   "metadata": {},
   "outputs": [
    {
     "name": "stdout",
     "output_type": "stream",
     "text": [
      "Facebook : 2974676\n",
      "LinkedIn : 71856\n",
      "Skype for iPhone : 373519\n",
      "Tumblr : 334293\n",
      "Match™ - #1 Dating App. : 60659\n",
      "WhatsApp Messenger : 287589\n",
      "TextNow - Unlimited Text + Calls : 164963\n",
      "Grindr - Gay and same sex guys chat, meet and date : 23201\n",
      "imo video calls and chat : 18841\n",
      "Ameba : 269\n",
      "Weibo : 7265\n",
      "Badoo - Meet New People, Chat, Socialize. : 34428\n",
      "Kik : 260965\n",
      "Qzone : 1649\n",
      "Fake-A-Location Free ™ : 354\n",
      "Tango - Free Video Call, Voice and Chat : 75412\n",
      "MeetMe - Chat and Meet New People : 97072\n",
      "SimSimi : 23530\n",
      "Viber Messenger – Text & Call : 164249\n",
      "Find My Family, Friends & iPhone - Life360 Locator : 43877\n",
      "Weibo HD : 16772\n",
      "POF - Best Dating App for Conversations : 52642\n",
      "GroupMe : 28260\n",
      "Lobi : 36\n",
      "WeChat : 34584\n",
      "ooVoo – Free Video Call, Text and Voice : 177501\n",
      "Pinterest : 1061624\n",
      "知乎 : 397\n",
      "Qzone HD : 458\n",
      "Skype for iPad : 60163\n",
      "LINE : 11437\n",
      "QQ : 9109\n",
      "LOVOO - Dating Chat : 1985\n",
      "QQ HD : 5058\n",
      "Messenger : 351466\n",
      "eHarmony™ Dating App - Meet Singles : 11124\n",
      "YouNow: Live Stream Video Chat : 12079\n",
      "Cougar Dating & Life Style App for Mature Women : 213\n",
      "Battlefield™ Companion : 689\n",
      "Whisper - Share, Express, Meet : 39819\n",
      "We Heart It - Fashion, wallpapers, quotes, tattoos : 90414\n",
      "Followers - Social Analytics For Instagram : 112778\n",
      "InsTrack for Instagram - Analytics Plus More : 85535\n",
      "Followers + for Instagram - Follower Analytics : 28633\n",
      "Timehop : 49510\n",
      "Repost for Instagram : 15185\n",
      "LINE PLAY - Your Avatar World : 34677\n",
      "Nextdoor : 14402\n",
      "Hangouts : 36404\n",
      "FollowMeter for Instagram - Followers Tracking : 11976\n",
      "Telegram Messenger : 7573\n",
      "Chatous - Chat with new people : 1609\n",
      "QQ International : 274\n",
      "FireChat : 1037\n",
      "Jodel : 1193\n",
      "Wishbone - Compare Anything : 20649\n",
      "Zenly - Locate your friends in realtime : 427\n",
      "Tantan : 235\n",
      "Flinch - Video Chat Staring Contest : 2134\n",
      "botman - Real time video chat : 7\n",
      "豆瓣 : 407\n",
      "Marco Polo Video Walkie Talkie : 27662\n",
      "After School - Funny Anonymous School News : 18482\n",
      "Highrise - Your Avatar Community : 2011\n",
      "Quick Reposter - Repost, Regram and Reshare Photos : 17694\n",
      "Kiwi - Q&A : 1538\n",
      "Periscope - Live Video Streaming Around the World : 6062\n",
      "Inke—Broadcast an amazing life : 147\n",
      "Discord - Chat for Gamers : 9152\n",
      "Candid - Speak Your Mind Freely : 398\n",
      "Down To Lunch : 2535\n",
      "SOMA Messenger : 3232\n",
      "Rawr Messenger - Dab your chat : 180\n",
      "Popcorn Buzz - Free Group Calls : 281\n",
      "Chain: Collaborate On MyVideo Story/Group Video : 35\n",
      "BestieBox : 0\n",
      "Selfeo : 366\n",
      "Followers Analysis Tool For Instagram App Free : 4253\n",
      "Hey! VINA - Where Women Meet New Friends : 719\n",
      "PlayStation®Messages : 1918\n",
      "WhenToPost: Best Time to Post Photos for Instagram : 158\n",
      "MATCH ON LINE chat : 0\n",
      "Fiesta by Tango - Chat & Meet New People : 885\n",
      "Houseparty - Group Video Chat : 3991\n",
      "All Devices for WhatsApp - Messenger for iPad : 682\n",
      "Peach — share vividly : 727\n",
      "bit-tube - Live Stream Video Chat : 0\n",
      "Miitomo : 23965\n",
      "SoundCloud Pulse: for creators : 240\n",
      "IAmNaughty – Dating App to Meet New People Online : 463\n",
      "League of Legends Friends : 420\n",
      "GhostCodes - a discovery app for Snapchat : 1313\n",
      "live.ly - live video streaming : 4145\n",
      "Live.me – Live Video Chat & Make Friends Nearby : 14724\n",
      "BOO! - Video chat camera with filters & stickers : 1805\n",
      "Google Allo — smart messaging : 862\n",
      "Google Duo - simple video calling : 1033\n",
      "Chat for Whatsapp - iPad Version : 5060\n",
      "Chat for Pokemon Go - GoChat : 500\n",
      "niconico ch : 0\n",
      "Followers Analytics for Instagram - InstaReport : 13914\n",
      "Monkey : 3060\n",
      "LINE BLOG : 0\n",
      "Mustknow - anonymous video Q&A : 53\n",
      "CTFxCmoji : 39\n",
      "Fam — Group video calling for iMessage : 279\n"
     ]
    }
   ],
   "source": [
    "for app in ios_final:\n",
    "    if app[-5]== \"Social Networking\":     \n",
    "        print(app[2],':', app[6])"
   ]
  },
  {
   "cell_type": "markdown",
   "metadata": {},
   "source": [
    "As we can see in Social Networking too, the average number is heavily influenced by few giants like Facebook, Whatspp messenger etc.\n",
    "Our aim is to find popular genres, but navigation, social networking or music apps might seem more popular than they really are. The average number of ratings seem to be skewed by very few apps which have hundreds of thousands of user ratings, while the other apps may struggle to get past the 10,000"
   ]
  },
  {
   "cell_type": "markdown",
   "metadata": {},
   "source": [
    "Reference apps have 74942 rating, let's examine that for a better picture"
   ]
  },
  {
   "cell_type": "code",
   "execution_count": 42,
   "metadata": {},
   "outputs": [
    {
     "name": "stdout",
     "output_type": "stream",
     "text": [
      "Bible : 985920\n",
      "Dictionary.com Dictionary & Thesaurus : 200047\n",
      "Dictionary.com Dictionary & Thesaurus for iPad : 54175\n",
      "Muslim Pro: Ramadan 2017 Prayer Times, Azan, Quran : 18418\n",
      "Merriam-Webster Dictionary : 16849\n",
      "Google Translate : 26786\n",
      "Night Sky : 12122\n",
      "WWDC : 762\n",
      "Jishokun-Japanese English Dictionary & Translator : 0\n",
      "教えて!goo : 0\n",
      "VPN Express : 14\n",
      "New Furniture Mods - Pocket Wiki & Game Tools for Minecraft PC Edition : 17588\n",
      "LUCKY BLOCK MOD ™ for Minecraft PC Edition - The Best Pocket Wiki & Mods Installer Tools : 4693\n",
      "Guides for Pokémon GO - Pokemon GO News and Cheats : 826\n",
      "Horror Maps for Minecraft PE - Download The Scariest Maps for Minecraft Pocket Edition (MCPE) Free : 718\n",
      "City Maps for Minecraft PE - The Best Maps for Minecraft Pocket Edition (MCPE) : 8535\n",
      "GUNS MODS for Minecraft PC Edition - Mods Tools : 1497\n",
      "Real Bike Traffic Rider Virtual Reality Glasses : 8\n"
     ]
    }
   ],
   "source": [
    "for app in ios_final:\n",
    "    if app[-5]== \"Reference\":     \n",
    "        print(app[2],':', app[6])"
   ]
  },
  {
   "cell_type": "markdown",
   "metadata": {},
   "source": [
    "However, this seems to show some interesting facts, One thing which we could do is take a popular book and turn it into an app where we could add different features besides the raw version of book, this might include qaily quotes, some motivational quotes, and how about adding a dictionary too, so that user doesnt need to exit the apps."
   ]
  },
  {
   "cell_type": "markdown",
   "metadata": {},
   "source": [
    "Now, let's analyze Google dataset"
   ]
  },
  {
   "cell_type": "markdown",
   "metadata": {},
   "source": [
    "## Most Popular apps by Genre on Google Play"
   ]
  },
  {
   "cell_type": "markdown",
   "metadata": {},
   "source": [
    "For the Google Play market, we actually have data about the number of installs, so we should be able to get a clearer picture about genre popularity. However, the install numbers don't seem precise enough — we can see that most values are open-ended (100+, 1,000+, 5,000+, etc.):"
   ]
  },
  {
   "cell_type": "code",
   "execution_count": 43,
   "metadata": {},
   "outputs": [
    {
     "name": "stdout",
     "output_type": "stream",
     "text": [
      "1,000,000+ :  15.726534296028879\n",
      "100,000+ :  11.552346570397113\n",
      "10,000,000+ :  10.548285198555957\n",
      "10,000+ :  10.198555956678701\n",
      "1,000+ :  8.393501805054152\n",
      "100+ :  6.915613718411552\n",
      "5,000,000+ :  6.825361010830325\n",
      "500,000+ :  5.561823104693141\n",
      "50,000+ :  4.7721119133574\n",
      "5,000+ :  4.512635379061372\n",
      "10+ :  3.5424187725631766\n",
      "500+ :  3.2490974729241873\n",
      "50,000,000+ :  2.3014440433213\n",
      "100,000,000+ :  2.1322202166064983\n",
      "50+ :  1.917870036101083\n",
      "5+ :  0.78971119133574\n",
      "1+ :  0.5076714801444043\n",
      "500,000,000+ :  0.2707581227436823\n",
      "1,000,000,000+ :  0.22563176895306858\n",
      "0+ :  0.04512635379061372\n",
      "0 :  0.01128158844765343\n"
     ]
    }
   ],
   "source": [
    "display_table(android_final, 5)"
   ]
  },
  {
   "cell_type": "code",
   "execution_count": 45,
   "metadata": {},
   "outputs": [
    {
     "name": "stdout",
     "output_type": "stream",
     "text": [
      "ART_AND_DESIGN : 1986335.0877192982\n",
      "AUTO_AND_VEHICLES : 647317.8170731707\n",
      "BEAUTY : 513151.88679245283\n",
      "BOOKS_AND_REFERENCE : 8767811.894736841\n",
      "BUSINESS : 1712290.1474201474\n",
      "COMICS : 817657.2727272727\n",
      "COMMUNICATION : 38456119.167247385\n",
      "DATING : 854028.8303030303\n",
      "EDUCATION : 1833495.145631068\n",
      "ENTERTAINMENT : 11640705.88235294\n",
      "EVENTS : 253542.22222222222\n",
      "FINANCE : 1387692.475609756\n",
      "FOOD_AND_DRINK : 1924897.7363636363\n",
      "HEALTH_AND_FITNESS : 4188821.9853479853\n",
      "HOUSE_AND_HOME : 1331540.5616438356\n",
      "LIBRARIES_AND_DEMO : 638503.734939759\n",
      "LIFESTYLE : 1437816.2687861272\n",
      "GAME : 15588015.603248259\n",
      "FAMILY : 3695641.8198090694\n",
      "MEDICAL : 120550.61980830671\n",
      "SOCIAL : 23253652.127118643\n",
      "SHOPPING : 7036877.311557789\n",
      "PHOTOGRAPHY : 17840110.40229885\n",
      "SPORTS : 3638640.1428571427\n",
      "TRAVEL_AND_LOCAL : 13984077.710144928\n",
      "TOOLS : 10801391.298666667\n",
      "PERSONALIZATION : 5201482.6122448975\n",
      "PRODUCTIVITY : 16787331.344927534\n",
      "PARENTING : 542603.6206896552\n",
      "WEATHER : 5074486.197183099\n",
      "VIDEO_PLAYERS : 24727872.452830188\n",
      "NEWS_AND_MAGAZINES : 9549178.467741935\n",
      "MAPS_AND_NAVIGATION : 4056941.7741935486\n"
     ]
    }
   ],
   "source": [
    "categories_android = freq_table(android_final, 1)\n",
    "\n",
    "for category in categories_android:\n",
    "    total = 0\n",
    "    len_category = 0\n",
    "    for app in android_final:\n",
    "        category_app = app[1]\n",
    "        if category_app == category:            \n",
    "            n_installs = app[5]\n",
    "            n_installs = n_installs.replace(',', '')\n",
    "            n_installs = n_installs.replace('+', '')\n",
    "            total += float(n_installs)\n",
    "            len_category += 1\n",
    "    avg_n_installs = total / len_category\n",
    "    print(category, ':', avg_n_installs)"
   ]
  },
  {
   "cell_type": "markdown",
   "metadata": {},
   "source": [
    "On average, communication apps have the most installs: 38,456,119. This number is heavily skewed up by a few apps that have over one billion installs (WhatsApp, Facebook Messenger, Skype, Google Chrome, Gmail, and Hangouts), and a few others with over 100 and 500 million installs:"
   ]
  },
  {
   "cell_type": "code",
   "execution_count": 46,
   "metadata": {},
   "outputs": [
    {
     "name": "stdout",
     "output_type": "stream",
     "text": [
      "WhatsApp Messenger : 1,000,000,000+\n",
      "imo beta free calls and text : 100,000,000+\n",
      "Android Messages : 100,000,000+\n",
      "Google Duo - High Quality Video Calls : 500,000,000+\n",
      "Messenger – Text and Video Chat for Free : 1,000,000,000+\n",
      "imo free video calls and chat : 500,000,000+\n",
      "Skype - free IM & video calls : 1,000,000,000+\n",
      "Who : 100,000,000+\n",
      "GO SMS Pro - Messenger, Free Themes, Emoji : 100,000,000+\n",
      "LINE: Free Calls & Messages : 500,000,000+\n",
      "Google Chrome: Fast & Secure : 1,000,000,000+\n",
      "Firefox Browser fast & private : 100,000,000+\n",
      "UC Browser - Fast Download Private & Secure : 500,000,000+\n",
      "Gmail : 1,000,000,000+\n",
      "Hangouts : 1,000,000,000+\n",
      "Messenger Lite: Free Calls & Messages : 100,000,000+\n",
      "Kik : 100,000,000+\n",
      "KakaoTalk: Free Calls & Text : 100,000,000+\n",
      "Opera Mini - fast web browser : 100,000,000+\n",
      "Opera Browser: Fast and Secure : 100,000,000+\n",
      "Telegram : 100,000,000+\n",
      "Truecaller: Caller ID, SMS spam blocking & Dialer : 100,000,000+\n",
      "UC Browser Mini -Tiny Fast Private & Secure : 100,000,000+\n",
      "Viber Messenger : 500,000,000+\n",
      "WeChat : 100,000,000+\n",
      "Yahoo Mail – Stay Organized : 100,000,000+\n",
      "BBM - Free Calls & Messages : 100,000,000+\n"
     ]
    }
   ],
   "source": [
    "for app in android_final:\n",
    "    if app[1] == \"COMMUNICATION\" and (app[5] == '1,000,000,000+' or app[5] == '500,000,000+' or app[5] == '100,000,000+'):\n",
    "        print(app[0], \":\", app[5])\n",
    "    "
   ]
  },
  {
   "cell_type": "markdown",
   "metadata": {},
   "source": [
    "Here also we can see \"Communication\" is being dominated by Whatsapp messenger, Google duo and all, if we remove these gigantic apps, the average would be reduced alot.\n",
    "We see the same pattern for VIDEO_PLAYERS which is being dominated by Youtube and Google Play movies."
   ]
  },
  {
   "cell_type": "markdown",
   "metadata": {},
   "source": [
    "The main concern is that these app genres might seem more popular than they really are. Moreover, these niches seem to be dominated by a few giants who are hard to compete against.\n",
    "The books and reference genre looks fairly popular as well, with an average number of installs of 8,767,811. It's interesting to explore this in more depth, since we found this genre has some potential to work well on the App Store, and our aim is to recommend an app genre that shows potential for being profitable on both the App Store and Google Play.\n",
    "\n",
    "Let's take a look at some of the apps from this genre and their number of installs:"
   ]
  },
  {
   "cell_type": "code",
   "execution_count": 47,
   "metadata": {},
   "outputs": [
    {
     "name": "stdout",
     "output_type": "stream",
     "text": [
      "E-Book Read - Read Book for free : 50,000+\n",
      "Download free book with green book : 100,000+\n",
      "Wikipedia : 10,000,000+\n",
      "Cool Reader : 10,000,000+\n",
      "Free Panda Radio Music : 100,000+\n",
      "Book store : 1,000,000+\n",
      "FBReader: Favorite Book Reader : 10,000,000+\n",
      "English Grammar Complete Handbook : 500,000+\n",
      "Free Books - Spirit Fanfiction and Stories : 1,000,000+\n",
      "Google Play Books : 1,000,000,000+\n",
      "AlReader -any text book reader : 5,000,000+\n",
      "Offline English Dictionary : 100,000+\n",
      "Offline: English to Tagalog Dictionary : 500,000+\n",
      "FamilySearch Tree : 1,000,000+\n",
      "Cloud of Books : 1,000,000+\n",
      "Recipes of Prophetic Medicine for free : 500,000+\n",
      "ReadEra – free ebook reader : 1,000,000+\n",
      "Anonymous caller detection : 10,000+\n",
      "Ebook Reader : 5,000,000+\n",
      "Litnet - E-books : 100,000+\n",
      "Read books online : 5,000,000+\n",
      "English to Urdu Dictionary : 500,000+\n",
      "eBoox: book reader fb2 epub zip : 1,000,000+\n",
      "English Persian Dictionary : 500,000+\n",
      "Flybook : 500,000+\n",
      "All Maths Formulas : 1,000,000+\n",
      "Ancestry : 5,000,000+\n",
      "HTC Help : 10,000,000+\n",
      "English translation from Bengali : 100,000+\n",
      "Pdf Book Download - Read Pdf Book : 100,000+\n",
      "Free Book Reader : 100,000+\n",
      "eBoox new: Reader for fb2 epub zip books : 50,000+\n",
      "Only 30 days in English, the guideline is guaranteed : 500,000+\n",
      "Moon+ Reader : 10,000,000+\n",
      "SH-02J Owner's Manual (Android 8.0) : 50,000+\n",
      "English-Myanmar Dictionary : 1,000,000+\n",
      "Golden Dictionary (EN-AR) : 1,000,000+\n",
      "All Language Translator Free : 1,000,000+\n",
      "Azpen eReader : 500,000+\n",
      "URBANO V 02 instruction manual : 100,000+\n",
      "Bible : 100,000,000+\n",
      "C Programs and Reference : 50,000+\n",
      "C Offline Tutorial : 1,000+\n",
      "C Programs Handbook : 50,000+\n",
      "Amazon Kindle : 100,000,000+\n",
      "Aab e Hayat Full Novel : 100,000+\n",
      "Aldiko Book Reader : 10,000,000+\n",
      "Google I/O 2018 : 500,000+\n",
      "R Language Reference Guide : 10,000+\n",
      "Learn R Programming Full : 5,000+\n",
      "R Programing Offline Tutorial : 1,000+\n",
      "Guide for R Programming : 5+\n",
      "Learn R Programming : 10+\n",
      "R Quick Reference Big Data : 1,000+\n",
      "V Made : 100,000+\n",
      "Wattpad 📖 Free Books : 100,000,000+\n",
      "Dictionary - WordWeb : 5,000,000+\n",
      "Guide (for X-MEN) : 100,000+\n",
      "AC Air condition Troubleshoot,Repair,Maintenance : 5,000+\n",
      "AE Bulletins : 1,000+\n",
      "Ae Allah na Dai (Rasa) : 10,000+\n",
      "50000 Free eBooks & Free AudioBooks : 5,000,000+\n",
      "Ag PhD Field Guide : 10,000+\n",
      "Ag PhD Deficiencies : 10,000+\n",
      "Ag PhD Planting Population Calculator : 1,000+\n",
      "Ag PhD Soybean Diseases : 1,000+\n",
      "Fertilizer Removal By Crop : 50,000+\n",
      "A-J Media Vault : 50+\n",
      "Al-Quran (Free) : 10,000,000+\n",
      "Al Quran (Tafsir & by Word) : 500,000+\n",
      "Al Quran Indonesia : 10,000,000+\n",
      "Al'Quran Bahasa Indonesia : 10,000,000+\n",
      "Al Quran Al karim : 1,000,000+\n",
      "Al-Muhaffiz : 50,000+\n",
      "Al Quran : EAlim - Translations & MP3 Offline : 5,000,000+\n",
      "Al-Quran 30 Juz free copies : 500,000+\n",
      "Koran Read &MP3 30 Juz Offline : 1,000,000+\n",
      "Hafizi Quran 15 lines per page : 1,000,000+\n",
      "Quran for Android : 10,000,000+\n",
      "Surah Al-Waqiah : 100,000+\n",
      "Hisnul Al Muslim - Hisn Invocations & Adhkaar : 100,000+\n",
      "Satellite AR : 1,000,000+\n",
      "Audiobooks from Audible : 100,000,000+\n",
      "Kinot & Eichah for Tisha B'Av : 10,000+\n",
      "AW Tozer Devotionals - Daily : 5,000+\n",
      "Tozer Devotional -Series 1 : 1,000+\n",
      "The Pursuit of God : 1,000+\n",
      "AY Sing : 5,000+\n",
      "Ay Hasnain k Nana Milad Naat : 10,000+\n",
      "Ay Mohabbat Teri Khatir Novel : 10,000+\n",
      "Arizona Statutes, ARS (AZ Law) : 1,000+\n",
      "Oxford A-Z of English Usage : 1,000,000+\n",
      "BD Fishpedia : 1,000+\n",
      "BD All Sim Offer : 10,000+\n",
      "Youboox - Livres, BD et magazines : 500,000+\n",
      "B&H Kids AR : 10,000+\n",
      "B y H Niños ES : 5,000+\n",
      "Dictionary.com: Find Definitions for English Words : 10,000,000+\n",
      "English Dictionary - Offline : 10,000,000+\n",
      "Bible KJV : 5,000,000+\n",
      "Borneo Bible, BM Bible : 10,000+\n",
      "MOD Black for BM : 100+\n",
      "BM Box : 1,000+\n",
      "Anime Mod for BM : 100+\n",
      "NOOK: Read eBooks & Magazines : 10,000,000+\n",
      "NOOK Audiobooks : 500,000+\n",
      "NOOK App for NOOK Devices : 500,000+\n",
      "Browsery by Barnes & Noble : 5,000+\n",
      "bp e-store : 1,000+\n",
      "Brilliant Quotes: Life, Love, Family & Motivation : 1,000,000+\n",
      "BR Ambedkar Biography & Quotes : 10,000+\n",
      "BU Alsace : 100+\n",
      "Catholic La Bu Zo Kam : 500+\n",
      "Khrifa Hla Bu (Solfa) : 10+\n",
      "Kristian Hla Bu : 10,000+\n",
      "SA HLA BU : 1,000+\n",
      "Learn SAP BW : 500+\n",
      "Learn SAP BW on HANA : 500+\n",
      "CA Laws 2018 (California Laws and Codes) : 5,000+\n",
      "Bootable Methods(USB-CD-DVD) : 10,000+\n",
      "cloudLibrary : 100,000+\n",
      "SDA Collegiate Quarterly : 500+\n",
      "Sabbath School : 100,000+\n",
      "Cypress College Library : 100+\n",
      "Stats Royale for Clash Royale : 1,000,000+\n",
      "GATE 21 years CS Papers(2011-2018 Solved) : 50+\n",
      "Learn CT Scan Of Head : 5,000+\n",
      "Easy Cv maker 2018 : 10,000+\n",
      "How to Write CV : 100,000+\n",
      "CW Nuclear : 1,000+\n",
      "CY Spray nozzle : 10+\n",
      "BibleRead En Cy Zh Yue : 5+\n",
      "CZ-Help : 5+\n",
      "Modlitební knížka CZ : 500+\n",
      "Guide for DB Xenoverse : 10,000+\n",
      "Guide for DB Xenoverse 2 : 10,000+\n",
      "Guide for IMS DB : 10+\n",
      "DC HSEMA : 5,000+\n",
      "DC Public Library : 1,000+\n",
      "Painting Lulu DC Super Friends : 1,000+\n",
      "Dictionary : 10,000,000+\n",
      "Fix Error Google Playstore : 1,000+\n",
      "D. H. Lawrence Poems FREE : 1,000+\n",
      "Bilingual Dictionary Audio App : 5,000+\n",
      "DM Screen : 10,000+\n",
      "wikiHow: how to do anything : 1,000,000+\n",
      "Dr. Doug's Tips : 1,000+\n",
      "Bible du Semeur-BDS (French) : 50,000+\n",
      "La citadelle du musulman : 50,000+\n",
      "DV 2019 Entry Guide : 10,000+\n",
      "DV 2019 - EDV Photo & Form : 50,000+\n",
      "DV 2018 Winners Guide : 1,000+\n",
      "EB Annual Meetings : 1,000+\n",
      "EC - AP & Telangana : 5,000+\n",
      "TN Patta Citta & EC : 10,000+\n",
      "AP Stamps and Registration : 10,000+\n",
      "CompactiMa EC pH Calibration : 100+\n",
      "EGW Writings 2 : 100,000+\n",
      "EGW Writings : 1,000,000+\n",
      "Bible with EGW Comments : 100,000+\n",
      "My Little Pony AR Guide : 1,000,000+\n",
      "SDA Sabbath School Quarterly : 500,000+\n",
      "Duaa Ek Ibaadat : 5,000+\n",
      "Spanish English Translator : 10,000,000+\n",
      "Dictionary - Merriam-Webster : 10,000,000+\n",
      "JW Library : 10,000,000+\n",
      "Oxford Dictionary of English : Free : 10,000,000+\n",
      "English Hindi Dictionary : 10,000,000+\n",
      "English to Hindi Dictionary : 5,000,000+\n",
      "EP Research Service : 1,000+\n",
      "Hymnes et Louanges : 100,000+\n",
      "EU Charter : 1,000+\n",
      "EU Data Protection : 1,000+\n",
      "EU IP Codes : 100+\n",
      "EW PDF : 5+\n",
      "BakaReader EX : 100,000+\n",
      "EZ Quran : 50,000+\n",
      "FA Part 1 & 2 Past Papers Solved Free – Offline : 5,000+\n",
      "La Fe de Jesus : 1,000+\n",
      "La Fe de Jesús : 500+\n",
      "Le Fe de Jesus : 500+\n",
      "Florida - Pocket Brainbook : 1,000+\n",
      "Florida Statutes (FL Code) : 1,000+\n",
      "English To Shona Dictionary : 10,000+\n",
      "Greek Bible FP (Audio) : 1,000+\n",
      "Golden Dictionary (FR-AR) : 500,000+\n",
      "Fanfic-FR : 5,000+\n",
      "Bulgarian French Dictionary Fr : 10,000+\n",
      "Chemin (fr) : 1,000+\n",
      "The SCP Foundation DB fr nn5n : 1,000+\n"
     ]
    }
   ],
   "source": [
    "for app in android_final:\n",
    "    if app[1] == \"BOOKS_AND_REFERENCE\":\n",
    "        print(app[0], \":\", app[5])\n",
    "    "
   ]
  },
  {
   "cell_type": "markdown",
   "metadata": {},
   "source": [
    "The book and reference genre includes a variety of apps: software for processing and reading ebooks, various collections of libraries, dictionaries, tutorials on programming or languages, etc. \n",
    "\n",
    "Let's examine more as we need have already shown some interest for this genre in AppleStore apps."
   ]
  },
  {
   "cell_type": "code",
   "execution_count": 48,
   "metadata": {},
   "outputs": [
    {
     "name": "stdout",
     "output_type": "stream",
     "text": [
      "Google Play Books : 1,000,000,000+\n",
      "Bible : 100,000,000+\n",
      "Amazon Kindle : 100,000,000+\n",
      "Wattpad 📖 Free Books : 100,000,000+\n",
      "Audiobooks from Audible : 100,000,000+\n"
     ]
    }
   ],
   "source": [
    "for app in android_final:\n",
    "    if app[1] == 'BOOKS_AND_REFERENCE' and (app[5] == '1,000,000,000+'\n",
    "                                            or app[5] == '500,000,000+'\n",
    "                                            or app[5] == '100,000,000+'):\n",
    "        print(app[0], ':', app[5])"
   ]
  },
  {
   "cell_type": "markdown",
   "metadata": {},
   "source": [
    "However, it looks like there are only a few very popular apps, so this market still shows potential. Let's try to get some app ideas based on the kind of apps that are somewhere in the middle in terms of popularity (between 1,000,000 and 100,000,000 downloads)"
   ]
  },
  {
   "cell_type": "code",
   "execution_count": 52,
   "metadata": {},
   "outputs": [
    {
     "name": "stdout",
     "output_type": "stream",
     "text": [
      "E-Book Read - Read Book for free : 50,000+\n",
      "Download free book with green book : 100,000+\n",
      "Free Panda Radio Music : 100,000+\n",
      "Book store : 1,000,000+\n",
      "English Grammar Complete Handbook : 500,000+\n",
      "Free Books - Spirit Fanfiction and Stories : 1,000,000+\n",
      "Offline English Dictionary : 100,000+\n",
      "Offline: English to Tagalog Dictionary : 500,000+\n",
      "FamilySearch Tree : 1,000,000+\n",
      "Cloud of Books : 1,000,000+\n",
      "Recipes of Prophetic Medicine for free : 500,000+\n",
      "ReadEra – free ebook reader : 1,000,000+\n",
      "Litnet - E-books : 100,000+\n",
      "English to Urdu Dictionary : 500,000+\n",
      "eBoox: book reader fb2 epub zip : 1,000,000+\n",
      "English Persian Dictionary : 500,000+\n",
      "Flybook : 500,000+\n",
      "All Maths Formulas : 1,000,000+\n",
      "English translation from Bengali : 100,000+\n",
      "Pdf Book Download - Read Pdf Book : 100,000+\n",
      "Free Book Reader : 100,000+\n",
      "eBoox new: Reader for fb2 epub zip books : 50,000+\n",
      "Only 30 days in English, the guideline is guaranteed : 500,000+\n",
      "SH-02J Owner's Manual (Android 8.0) : 50,000+\n",
      "English-Myanmar Dictionary : 1,000,000+\n",
      "Golden Dictionary (EN-AR) : 1,000,000+\n",
      "All Language Translator Free : 1,000,000+\n",
      "Azpen eReader : 500,000+\n",
      "URBANO V 02 instruction manual : 100,000+\n",
      "C Programs and Reference : 50,000+\n",
      "C Programs Handbook : 50,000+\n",
      "Aab e Hayat Full Novel : 100,000+\n",
      "Google I/O 2018 : 500,000+\n",
      "V Made : 100,000+\n",
      "Guide (for X-MEN) : 100,000+\n",
      "Fertilizer Removal By Crop : 50,000+\n",
      "Al Quran (Tafsir & by Word) : 500,000+\n",
      "Al Quran Al karim : 1,000,000+\n",
      "Al-Muhaffiz : 50,000+\n",
      "Al-Quran 30 Juz free copies : 500,000+\n",
      "Koran Read &MP3 30 Juz Offline : 1,000,000+\n",
      "Hafizi Quran 15 lines per page : 1,000,000+\n",
      "Surah Al-Waqiah : 100,000+\n",
      "Hisnul Al Muslim - Hisn Invocations & Adhkaar : 100,000+\n",
      "Satellite AR : 1,000,000+\n",
      "Oxford A-Z of English Usage : 1,000,000+\n",
      "Youboox - Livres, BD et magazines : 500,000+\n",
      "NOOK Audiobooks : 500,000+\n",
      "NOOK App for NOOK Devices : 500,000+\n",
      "Brilliant Quotes: Life, Love, Family & Motivation : 1,000,000+\n",
      "cloudLibrary : 100,000+\n",
      "Sabbath School : 100,000+\n",
      "Stats Royale for Clash Royale : 1,000,000+\n",
      "How to Write CV : 100,000+\n",
      "wikiHow: how to do anything : 1,000,000+\n",
      "Bible du Semeur-BDS (French) : 50,000+\n",
      "La citadelle du musulman : 50,000+\n",
      "DV 2019 - EDV Photo & Form : 50,000+\n",
      "EGW Writings 2 : 100,000+\n",
      "EGW Writings : 1,000,000+\n",
      "Bible with EGW Comments : 100,000+\n",
      "My Little Pony AR Guide : 1,000,000+\n",
      "SDA Sabbath School Quarterly : 500,000+\n",
      "Hymnes et Louanges : 100,000+\n",
      "BakaReader EX : 100,000+\n",
      "EZ Quran : 50,000+\n",
      "Golden Dictionary (FR-AR) : 500,000+\n"
     ]
    }
   ],
   "source": [
    "for app in android_final:\n",
    "    if app[1] == 'BOOKS_AND_REFERENCE' and (app[5] == '1,000,000+'\n",
    "                                            or app[5] == '500,000+'\n",
    "                                            or app[5] == '100,000+'    \n",
    "                                            or app[5] == '50,000+' ):\n",
    "        print(app[0], ':', app[5])"
   ]
  },
  {
   "cell_type": "markdown",
   "metadata": {},
   "source": [
    "This niche seems to be dominated by software for processing and reading ebooks, as well as various collections of libraries and dictionaries, so it's probably not a good idea to build similar apps since there'll be some significant competition.\n",
    "\n",
    "We also notice there are quite a few apps built around the book Quran, which suggests that building an app around a popular book can be profitable. It seems that taking a popular book (perhaps a more recent book) and turning it into an app could be profitable for both the Google Play and the App Store markets."
   ]
  },
  {
   "cell_type": "markdown",
   "metadata": {},
   "source": [
    "# Conclusion\n",
    "\n",
    "In this project we analyzed data about the App store and Play store mobile apps with the goal of recommending an app profile that can be profitable for both markets.\n",
    "\n",
    "We concluded that taking a popular book (perhaps a more recent book)  and turning it into an app could be profitable for both the Google Play and the App Store markets. The markets are already full of libraries, so we need to add some special features besides the raw version of the book. This might include daily quotes from the book, an audio version of the book, quizzes on the book, a forum where people can discuss the book, dictionaries etc."
   ]
  }
 ],
 "metadata": {
  "kernelspec": {
   "display_name": "Python 3",
   "language": "python",
   "name": "python3"
  },
  "language_info": {
   "codemirror_mode": {
    "name": "ipython",
    "version": 3
   },
   "file_extension": ".py",
   "mimetype": "text/x-python",
   "name": "python",
   "nbconvert_exporter": "python",
   "pygments_lexer": "ipython3",
   "version": "3.6.5"
  }
 },
 "nbformat": 4,
 "nbformat_minor": 2
}
